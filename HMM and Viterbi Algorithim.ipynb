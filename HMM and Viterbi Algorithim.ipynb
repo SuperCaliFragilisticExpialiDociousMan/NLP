{
 "cells": [
  {
   "cell_type": "code",
   "execution_count": null,
   "metadata": {
    "id": "-Sdwhg5qDTEP"
   },
   "outputs": [],
   "source": []
  },
  {
   "cell_type": "markdown",
   "metadata": {
    "id": "F0Z-khZ8DZft"
   },
   "source": [
    "## **CS 6120: Natural Language Processing - Prof. Ahmad Uzair** \n",
    "\n",
    "### **Assignment 3: Parts Of Speech Tagging**\n",
    "\n",
    "### **Total points: 100**\n",
    "\n",
    "In this assignment, you will have hands-on experience with HMMs and Viterbi algorithm. You'll will be doing part-of-speech (POS) tagging, the process of assigning a part-of-speech tag (Noun, Verb, Adjective...) to each word in an input text."
   ]
  },
  {
   "cell_type": "code",
   "execution_count": null,
   "metadata": {
    "id": "9y0FE2uJDYHp"
   },
   "outputs": [],
   "source": [
    "import pandas as pd\n",
    "from collections import defaultdict\n",
    "import math\n",
    "import numpy as np\n",
    "import string"
   ]
  },
  {
   "cell_type": "markdown",
   "metadata": {
    "id": "5FBfOnAqIRT8"
   },
   "source": [
    "We have got the preprocessing covered for you in this assignment"
   ]
  },
  {
   "cell_type": "code",
   "execution_count": null,
   "metadata": {
    "id": "m3YrNVN0cxJY"
   },
   "outputs": [],
   "source": [
    "# Do not change anything in this cell\n",
    "\n",
    "# Punctuation characters\n",
    "punct = set(string.punctuation)\n",
    "\n",
    "# Morphology rules used to assign unknown word tokens\n",
    "noun_suffix = [\"action\", \"age\", \"ance\", \"cy\", \"dom\", \"ee\", \"ence\", \"er\", \"hood\", \"ion\", \"ism\", \"ist\", \"ity\", \"ling\", \"ment\", \"ness\", \"or\", \"ry\", \"scape\", \"ship\", \"ty\"]\n",
    "verb_suffix = [\"ate\", \"ify\", \"ise\", \"ize\"]\n",
    "adj_suffix = [\"able\", \"ese\", \"ful\", \"i\", \"ian\", \"ible\", \"ic\", \"ish\", \"ive\", \"less\", \"ly\", \"ous\"]\n",
    "adv_suffix = [\"ward\", \"wards\", \"wise\"]\n",
    "\n",
    "\n",
    "def get_word_tag(line, vocab): \n",
    "    if not line.split():\n",
    "        word = \"--n--\"\n",
    "        tag = \"--s--\"\n",
    "        return word, tag\n",
    "    else:\n",
    "        word, tag = line.split()\n",
    "        if word not in vocab: \n",
    "            # Handle unknown words\n",
    "            word = assign_unk(word)\n",
    "        return word, tag\n",
    "    return None \n",
    "\n",
    "\n",
    "def preprocess(vocab, data_fp):\n",
    "    \"\"\"\n",
    "    Preprocess data\n",
    "    \"\"\"\n",
    "    orig = []\n",
    "    prep = []\n",
    "\n",
    "    # Read data\n",
    "    with open(data_fp, \"r\") as data_file:\n",
    "\n",
    "        for cnt, word in enumerate(data_file):\n",
    "\n",
    "            # End of sentence\n",
    "            if not word.split():\n",
    "                orig.append(word.strip())\n",
    "                word = \"--n--\"\n",
    "                prep.append(word)\n",
    "                continue\n",
    "\n",
    "            # Handle unknown words\n",
    "            elif word.strip() not in vocab:\n",
    "                orig.append(word.strip())\n",
    "                word = assign_unk(word)\n",
    "                prep.append(word)\n",
    "                continue\n",
    "\n",
    "            else:\n",
    "                orig.append(word.strip())\n",
    "                prep.append(word.strip())\n",
    "\n",
    "    assert(len(orig) == len(open(data_fp, \"r\").readlines()))\n",
    "    assert(len(prep) == len(open(data_fp, \"r\").readlines()))\n",
    "\n",
    "    return orig, prep\n",
    "\n",
    "\n",
    "def assign_unk(tok):\n",
    "    \"\"\"\n",
    "    Assign unknown word tokens\n",
    "    \"\"\"\n",
    "    # Digits\n",
    "    if any(char.isdigit() for char in tok):\n",
    "        return \"--unk_digit--\"\n",
    "\n",
    "    # Punctuation\n",
    "    elif any(char in punct for char in tok):\n",
    "        return \"--unk_punct--\"\n",
    "\n",
    "    # Upper-case\n",
    "    elif any(char.isupper() for char in tok):\n",
    "        return \"--unk_upper--\"\n",
    "\n",
    "    # Nouns\n",
    "    elif any(tok.endswith(suffix) for suffix in noun_suffix):\n",
    "        return \"--unk_noun--\"\n",
    "\n",
    "    # Verbs\n",
    "    elif any(tok.endswith(suffix) for suffix in verb_suffix):\n",
    "        return \"--unk_verb--\"\n",
    "\n",
    "    # Adjectives\n",
    "    elif any(tok.endswith(suffix) for suffix in adj_suffix):\n",
    "        return \"--unk_adj--\"\n",
    "\n",
    "    # Adverbs\n",
    "    elif any(tok.endswith(suffix) for suffix in adv_suffix):\n",
    "        return \"--unk_adv--\"\n",
    "\n",
    "    return \"--unk--\""
   ]
  },
  {
   "cell_type": "markdown",
   "metadata": {
    "id": "On-_u7QXdriq"
   },
   "source": [
    "## Introduction to Dataset\n",
    " \n",
    "- This assignment will use two tagged data sets. One data set (**train.pos**) will be used for **training**. The other (**test.pos**) for **testing**. The tagged training data has been preprocessed to form a vocabulary (**hmv.txt**). The words in the vocabulary are words from the training set that were used two or more times. The vocabulary is augmented with a set of 'unknown word tokens'. \n",
    "\n",
    "- The training set will be used to create the emission, transmission and tag counts. \n",
    "\n",
    "- The test set (test.pos) is read in to create `y`. This contains both the test text and the true tag. The test set has also been preprocessed to remove the tags to form **test_words.txt**. \n",
    "\n",
    "- A POS tagger will necessarily encounter words that are not in its datasets.  A set of unknown-tokens, such as '--unk-verb--' or '--unk-noun--' will replace the unknown words in both the training and test corpus and will appear in the emission, transmission and tag data structures."
   ]
  },
  {
   "cell_type": "markdown",
   "metadata": {
    "id": "0iOqcVGNgUK8"
   },
   "source": [
    "### **Task 1 - Training the model: (20 points)**\n",
    "\n",
    "Write a program that takes in the `training_corpus` and returns the three dictionaries mentioned above `transition_counts`, `emission_counts`, and `tag_counts`. \n",
    "- `emission_counts`: maps (tag, word) to the number of times it happened. \n",
    "- `transition_counts`: maps (prev_tag, tag) to the number of times it has appeared. \n",
    "- `tag_counts`: maps (tag) to the number of times it has occured.\n",
    "\n",
    "Tip: Make use of defaultdict as a standard Python dictionary throws a *KeyError* if you try to access an item with a key that is not currently in the dictionary. In contrast, the *defauweltdict* will create an item of the type of the argument, in this case an integer with the default value of 0."
   ]
  },
  {
   "cell_type": "code",
   "execution_count": null,
   "metadata": {
    "id": "7A8Qg-YLhzJA"
   },
   "outputs": [],
   "source": [
    "# Do not change anything in this cell\n",
    "# load in the training corpus\n",
    "with open(\"train.pos\", 'r') as f:\n",
    "    training_corpus = f.readlines()\n",
    "\n",
    "# read the vocabulary data, split by each line of text, and save the list\n",
    "with open(\"hmv.txt\", 'r') as f:\n",
    "    voc_l = f.read().split('\\n')\n",
    "\n",
    "# vocab: dictionary that has the index of the corresponding words\n",
    "vocab = {} \n",
    "\n",
    "# Get the index of the corresponding words. \n",
    "for i, word in enumerate(sorted(voc_l)): \n",
    "    vocab[word] = i       \n",
    "    \n",
    "\n",
    "cnt = 0\n",
    "for k,v in vocab.items():\n",
    "    cnt += 1\n",
    "    if cnt > 20:\n",
    "        break\n",
    "\n",
    "# load in the test corpus\n",
    "with open(\"test.pos\", 'r') as f:\n",
    "    y = f.readlines()\n",
    "\n",
    "#corpus without tags, preprocessed\n",
    "_, prep = preprocess(vocab, \"test.words\")"
   ]
  },
  {
   "cell_type": "code",
   "execution_count": null,
   "metadata": {
    "id": "oBsiIUUCh-xw"
   },
   "outputs": [],
   "source": [
    "# TASK 1 CELL\n",
    "\n",
    "def create_dictionaries(training_corpus, vocab):\n",
    "    \"\"\"\n",
    "    Params: \n",
    "        training_corpus: a corpus where each line has a word followed by its tag.\n",
    "        vocab: a dictionary where keys are words in vocabulary and value is an index\n",
    "    Return: \n",
    "        emission_counts: a dictionary where the keys are (tag, word) and the values are the counts\n",
    "        transition_counts: a dictionary where the keys are (prev_tag, tag) and the values are the counts\n",
    "        tag_counts: a dictionary where the keys are the tags and the values are the counts\n",
    "    \"\"\"\n",
    "    \n",
    "    # initialize the dictionaries \n",
    "    emission_counts=dict()\n",
    "    \n",
    "    for i in training_corpus:\n",
    "        word,tag=get_word_tag(i, vocab)\n",
    "        #if tag=='``':\n",
    "            #continue\n",
    "        if (tag,word) not in emission_counts:\n",
    "            emission_counts[(tag,word)]=1\n",
    "        else:\n",
    "            emission_counts[(tag,word)]+=1\n",
    "            \n",
    "            \n",
    "    transition_counts=dict()\n",
    "    \n",
    "    for i in range(len(training_corpus)-1):\n",
    "        this_tag=get_word_tag(training_corpus[i], vocab)[1]\n",
    "        next_tag=get_word_tag(training_corpus[i+1], vocab)[1]\n",
    "        #if this_tag=='``' or next_tag=='``':\n",
    "            #continue\n",
    "        if (this_tag,next_tag) not in transition_counts:\n",
    "            transition_counts[(this_tag,next_tag)]=1\n",
    "        else:\n",
    "            transition_counts[(this_tag,next_tag)]+=1\n",
    "            \n",
    "        \n",
    "    tag_counts=dict()\n",
    "    \n",
    "    for i in training_corpus:\n",
    "        word,tag=get_word_tag(i, vocab)\n",
    "        if tag not in tag_counts:\n",
    "            tag_counts[tag]=1\n",
    "        else:\n",
    "            tag_counts[tag]+=1\n",
    "        \n",
    "        \n",
    "    # Initialize \"prev_tag\" (previous tag) with the start state, denoted by '--s--'\n",
    "\n",
    "        # get the word and tag using the get_word_tag helper function\n",
    "        \n",
    "    return emission_counts, transition_counts, tag_counts"
   ]
  },
  {
   "cell_type": "code",
   "execution_count": null,
   "metadata": {
    "id": "9R9Vgk4KjN8m"
   },
   "outputs": [],
   "source": [
    "# Do not change anything in this cell\n",
    "\n",
    "emission_counts, transition_counts, tag_counts = create_dictionaries(training_corpus, vocab)\n",
    "states = sorted(tag_counts.keys())\n",
    "print(f\"Number of POS tags (number of 'states'): {len(states)}\")\n",
    "print(\"View these POS tags (states)\")\n",
    "print(states)"
   ]
  },
  {
   "cell_type": "markdown",
   "metadata": {
    "id": "b_8vAUMOjlQa"
   },
   "source": [
    "### **Task 2: Testing the model: (10 points)**\n",
    "Implement `predict_pos` that computes the accuracy of your model.\n",
    "- To assign a part of speech to a word, assign the most frequent POS for that word in the training set. \n",
    "- Then evaluate how well this approach works.  Each time you predict based on the most frequent POS for the given word, check whether the actual POS of that word is the same.  If so, the prediction was correct!\n",
    "- Calculate the accuracy as the number of correct predictions divided by the total number of words for which you predicted the POS tag. "
   ]
  },
  {
   "cell_type": "code",
   "execution_count": null,
   "metadata": {
    "id": "cq55N4aijT46"
   },
   "outputs": [],
   "source": [
    "# Task 2 Cell\n",
    "def predict_pos(prep, y, emission_counts, vocab, states):\n",
    "    '''\n",
    "    Params: \n",
    "        prep: a preprocessed version of 'y'. A list with the 'word' component of the tuples.\n",
    "        y: a corpus composed of a list of tuples where each tuple consists of (word, POS)\n",
    "        emission_counts: a dictionary where the keys are (tag,word) tuples and the value is the count\n",
    "        vocab: a dictionary where keys are words in vocabulary and value is an index\n",
    "        states: a sorted list of all possible tags for this assignment\n",
    "    Return: \n",
    "        accuracy: Number of times you classified a word correctly\n",
    "    '''\n",
    "\n",
    "    num=len(y)\n",
    "  \n",
    "    y_tup=[]\n",
    "    for line in y:\n",
    "        if not line.split():\n",
    "            continue\n",
    "        else:\n",
    "            word, pos = line.split()\n",
    "            if word not in vocab: \n",
    "                continue\n",
    "        word,pos=get_word_tag(line,vocab)\n",
    "        y_tup.append([word,pos])\n",
    "\n",
    "    L=[]\n",
    "    for i in range(num):\n",
    "        max_count=0\n",
    "        max_tag=None\n",
    "        for key in list(emission_counts.keys()):\n",
    "            if key[1]==prep[i]:\n",
    "                if emission_counts[key] > max_count:\n",
    "                    max_count=emission_counts[key]\n",
    "                    max_tag=key[0]\n",
    "        if [prep[i],max_tag] not in L:\n",
    "            L.append([prep[i],max_tag])\n",
    "    \n",
    "    L=sorted(L,key=lambda x: x[0])\n",
    "    #print(L)\n",
    "    y_tup=sorted(y_tup,key=lambda x: x[0])\n",
    "    correct=0\n",
    "    total=0\n",
    "    for i in range(len(L)):\n",
    "        if L[i][1] not in vocab:\n",
    "            continue\n",
    "        for j in range(len(y_tup)):\n",
    "            if L[i][0]==y_tup[j][0]:\n",
    "                if y_tup[j][1]==L[i][1]:\n",
    "                    correct+=1\n",
    "                total+=1\n",
    "    accuracy=correct/total\n",
    "    return accuracy"
   ]
  },
  {
   "cell_type": "code",
   "execution_count": null,
   "metadata": {
    "id": "f8kMAVr8mNw4"
   },
   "outputs": [],
   "source": [
    "# Do not change anything in this cell\n",
    "accuracy_predict_pos = predict_pos(prep, y, emission_counts, vocab, states)\n",
    "print(f\"Accuracy of prediction using predict_pos is {accuracy_predict_pos:.4f}\")"
   ]
  },
  {
   "cell_type": "markdown",
   "metadata": {
    "id": "FVlxF63qmWiY"
   },
   "source": [
    "### **Task 3 - Hidden Markov Model: (20 points)**\n",
    "\n",
    "Hidden Markov Model: The HMM is one of the most commonly used algorithms in Natural Language Processing. The Markov Model contains a number of states and the probability of transition between those states. In this case, the states are the parts-of-speech. A Markov Model utilizes a transition matrix, `A`. A Hidden Markov Model adds an observation or emission matrix `B` which describes the probability of a visible observation when we are in a particular state. In this case, the emissions are the words in the corpus. The state, which is hidden, is the POS tag of that word.\n",
    "\n",
    "The smoothing was done as follows: \n",
    "\n",
    "$$ P(t_i | t_{i-1}) = \\frac{C(t_{i-1}, t_{i}) + \\alpha }{C(t_{i-1}) +\\alpha * N}\\tag{3}$$\n",
    "\n",
    "- $N$ is the total number of tags\n",
    "- $C(t_{i-1}, t_{i})$ is the count of the tuple (previous POS, current POS) in `transition_counts` dictionary.\n",
    "- $C(t_{i-1})$ is the count of the previous POS in the `tag_counts` dictionary.\n",
    "- $\\alpha$ is a smoothing parameter.\n",
    "\n",
    "Implement the `create_transition_matrix` below for all tags. "
   ]
  },
  {
   "cell_type": "code",
   "execution_count": null,
   "metadata": {
    "id": "Xs-SqQ4-mRig"
   },
   "outputs": [],
   "source": [
    "def create_transition_matrix(alpha, tag_counts, transition_counts):\n",
    "    ''' \n",
    "    Params: \n",
    "        alpha: number used for smoothing\n",
    "        tag_counts: a dictionary mapping each tag to its respective count\n",
    "        transition_counts: transition count for the previous word and tag\n",
    "    Return:\n",
    "        A: matrix of dimension (num_tags,num_tags)\n",
    "    '''\n",
    "    # Write your code here\n",
    "    \n",
    "    states = sorted(tag_counts.keys())\n",
    "    \n",
    "    matrix=[[0 for i in range(len(states))] for j in range(len(states))]\n",
    "    for i in range(len(states)):\n",
    "        for j in range(len(states)):\n",
    "            pre_tag=states[i]\n",
    "            next_tag=states[j]\n",
    "            if (pre_tag,next_tag) in transition_counts:\n",
    "                matrix[i][j]=(transition_counts[(pre_tag,next_tag)]+alpha)/(tag_counts[pre_tag]+alpha*len(states))\n",
    "            else:\n",
    "                matrix[i][j]=1/len(states)\n",
    "    return np.matrix(matrix)"
   ]
  },
  {
   "cell_type": "code",
   "execution_count": null,
   "metadata": {
    "id": "qPWR1VF-oL-G"
   },
   "outputs": [],
   "source": [
    "# Do not change anything in this cell\n",
    "alpha = 0.001\n",
    "A = create_transition_matrix(alpha, tag_counts, transition_counts)\n",
    "# Testing your function\n",
    "print(f\"A at row 0, col 0: {A[0,0]:.9f}\")\n",
    "print(f\"A at row 3, col 1: {A[3,1]:.4f}\")\n",
    "\n",
    "print(\"View a subset of transition matrix A\")\n",
    "A_sub = pd.DataFrame(A[30:35,30:35], index=states[30:35], columns = states[30:35] )\n",
    "print(A_sub)"
   ]
  },
  {
   "cell_type": "markdown",
   "metadata": {
    "id": "BaQaCFZUoU0A"
   },
   "source": [
    "Now you will create the `B` transition matrix which computes the emission probability. \n",
    "\n",
    "You will use smoothing as defined below: \n",
    "\n",
    "$$P(w_i | t_i) = \\frac{C(t_i, word_i)+ \\alpha}{C(t_{i}) +\\alpha * N}\\tag{4}$$\n",
    "\n",
    "- $C(t_i, word_i)$ is the number of times $word_i$ was associated with $tag_i$ in the training data (stored in `emission_counts` dictionary).\n",
    "- $C(t_i)$ is the number of times $tag_i$ was in the training data (stored in `tag_counts` dictionary).\n",
    "- $N$ is the number of words in the vocabulary\n",
    "- $\\alpha$ is a smoothing parameter. \n",
    "\n",
    "The matrix `B` is of dimension (num_tags, N), where num_tags is the number of possible parts-of-speech tags. \n",
    "\n",
    "Implement the `create_emission_matrix` below that computes the `B` emission probabilities matrix. Your function takes in $\\alpha$, the smoothing parameter, `tag_counts`, which is a dictionary mapping each tag to its respective count, the `emission_counts` dictionary where the keys are (tag, word) and the values are the counts."
   ]
  },
  {
   "cell_type": "code",
   "execution_count": null,
   "metadata": {
    "id": "-Hll4Khfojg4"
   },
   "outputs": [],
   "source": [
    "def create_emission_matrix(alpha, tag_counts, emission_counts, vocab):\n",
    "    '''\n",
    "    Params: \n",
    "        alpha: tuning parameter used in smoothing \n",
    "        tag_counts: a dictionary mapping each tag to its respective count\n",
    "        emission_counts: a dictionary where the keys are (tag, word) and the values are the counts\n",
    "        vocab: a dictionary where keys are words in vocabulary and value is an index\n",
    "    Return:\n",
    "        B: a matrix of dimension (num_tags, len(vocab))\n",
    "    '''\n",
    "    \n",
    "    # Write your code here\n",
    "    #tag_counts=[i for i in tag_counts.items()]\n",
    "    states = sorted(tag_counts.keys())\n",
    "    \n",
    "    vocab_list=list(vocab.items())\n",
    "\n",
    "    num_tags=len(tag_counts)\n",
    "    matrix=[[0 for i in range(len(vocab)+8)] for j in range(num_tags)]\n",
    "    for i in range(num_tags):\n",
    "        #tag=tag_counts[i][0]\n",
    "        tag=states[i]\n",
    "        #c_tag=tag_counts[i][1] \n",
    "        c_tag=tag_counts[states[i]]\n",
    "        \n",
    "        for j in range(len(vocab_list)):\n",
    "            if (tag,vocab_list[j][0]) in emission_counts: \n",
    "                c_tag_word=emission_counts[(tag,vocab_list[j][0])]\n",
    "                matrix[i][j]=(c_tag_word+alpha)/(c_tag+alpha*len(vocab))\n",
    "            else:\n",
    "                matrix[i][j]=1/len(vocab)\n",
    "        if (tag,\"--unk_digit--\") in emission_counts:\n",
    "            c_tag_word=emission_counts[(tag,\"--unk_digit--\")]\n",
    "            matrix[i][len(vocab_list)]=(c_tag_word+alpha)/(c_tag+alpha*len(vocab))\n",
    "        else:\n",
    "            matrix[i][len(vocab_list)]=1/len(vocab)\n",
    "        if (tag,\"--unk_punct--\") in emission_counts:\n",
    "            c_tag_word=emission_counts[(tag,\"--unk_punct--\")]\n",
    "            matrix[i][len(vocab_list)+1]=(c_tag_word+alpha)/(c_tag+alpha*len(vocab))\n",
    "        else:\n",
    "            matrix[i][len(vocab_list)+1]=1/len(vocab)\n",
    "        if (tag,\"--unk_upper--\") in emission_counts:\n",
    "            c_tag_word=emission_counts[(tag,\"--unk_upper--\")]\n",
    "            matrix[i][len(vocab_list)+2]=(c_tag_word+alpha)/(c_tag+alpha*len(vocab))\n",
    "        else:\n",
    "            matrix[i][len(vocab_list)+2]=1/len(vocab)\n",
    "        if (tag,\"--unk_noun--\") in emission_counts:\n",
    "            c_tag_word=emission_counts[(tag,\"--unk_noun--\")]\n",
    "            matrix[i][len(vocab_list)+3]=(c_tag_word+alpha)/(c_tag+alpha*len(vocab))\n",
    "        else:\n",
    "            matrix[i][len(vocab_list)+3]=1/len(vocab)\n",
    "        if (tag,\"--unk_verb--\") in emission_counts:\n",
    "            c_tag_word=emission_counts[(tag,\"--unk_verb--\")]\n",
    "            matrix[i][len(vocab_list)+4]=(c_tag_word+alpha)/(c_tag+alpha*len(vocab))\n",
    "        else:\n",
    "            matrix[i][len(vocab_list)+4]=1/len(vocab)\n",
    "        if (tag,\"--unk_adj--\") in emission_counts:\n",
    "            c_tag_word=emission_counts[(tag,\"--unk_adj--\")]\n",
    "            matrix[i][len(vocab_list)+5]=(c_tag_word+alpha)/(c_tag+alpha*len(vocab))\n",
    "        else:\n",
    "            matrix[i][len(vocab_list)+5]=1/len(vocab)\n",
    "        if (tag,\"--unk_adv--\") in emission_counts:\n",
    "            c_tag_word=emission_counts[(tag,\"--unk_adv--\")]\n",
    "            matrix[i][len(vocab_list)+6]=(c_tag_word+alpha)/(c_tag+alpha*len(vocab))\n",
    "        else: \n",
    "            matrix[i][len(vocab_list)+6]=1/len(vocab)\n",
    "        if (tag,\"--unk--\") in emission_counts:\n",
    "            c_tag_word=emission_counts[(tag,\"--unk--\")]\n",
    "            matrix[i][len(vocab_list)+7]=(c_tag_word+alpha)/(c_tag+alpha*len(vocab))\n",
    "        else:\n",
    "            matrix[i][len(vocab_list)+7]=1/len(vocab)\n",
    "\n",
    "    return np.matrix(matrix)"
   ]
  },
  {
   "cell_type": "code",
   "execution_count": null,
   "metadata": {
    "id": "nYH6oLweo6Ud"
   },
   "outputs": [],
   "source": [
    "# Do not change anything in this cell\n",
    "B = create_emission_matrix(alpha, tag_counts, emission_counts, list(vocab))\n",
    "print(f\"View Matrix position at row 0, column 0: {B[0,0]:.9f}\")\n",
    "print(f\"View Matrix position at row 3, column 1: {B[3,1]:.9f}\")\n",
    "cidx  = ['725','adroitly','engineers', 'promoted', 'synergy']\n",
    "cols = [vocab[a] for a in cidx]\n",
    "rvals =['CD','NN','NNS', 'VB','RB','RP']\n",
    "rows = [states.index(a) for a in rvals]\n",
    "B_sub = pd.DataFrame(B[np.ix_(rows,cols)], index=rvals, columns = cidx )\n",
    "print(B_sub)"
   ]
  },
  {
   "cell_type": "markdown",
   "metadata": {
    "id": "W2iotaq4vhGL"
   },
   "source": [
    "### **Task 4 - Viterbi Algorithm: (50 points)**\n",
    "\n",
    "In this part of the assignment you will implement the Viterbi algorithm which makes use of dynamic programming. Specifically, you will use your two matrices, `A` and `B` to compute the Viterbi algorithm. We have decomposed this process into three main steps for you. \n",
    "\n",
    "* **Initialization** - In this part you initialize the `best_paths` and `best_probabilities` matrices that you will be populating in `feed_forward`.\n",
    "* **Feed forward** - At each step, you calculate the probability of each path happening and the best paths up to that point. \n",
    "* **Feed backward**: This allows you to find the best path with the highest probabilities. \n",
    "\n",
    "You will start by initializing two matrices of the same dimension. \n",
    "\n",
    "- best_probs: Each cell contains the probability of going from one POS tag to a word in the corpus.\n",
    "\n",
    "- best_paths: A matrix that helps you trace through the best possible path in the corpus. \n",
    "\n",
    " \n",
    "Write a program below that initializes the `best_probs` and the `best_paths` matrix. \n",
    "\n",
    "Both matrices will be initialized to zero except for column zero of `best_probs`.  \n",
    "- Column zero of `best_probs` is initialized with the assumption that the first word of the corpus was preceded by a start token (\"--s--\"). \n",
    "- This allows you to reference the **A** matrix for the transition probability\n",
    "\n",
    "Here is how to initialize column 0 of `best_probs`:\n",
    "- The probability of the best path going from the start index to a given POS tag indexed by integer $i$ is denoted by $\\textrm{best_probs}[s_{idx}, i]$.\n",
    "- This is estimated as the probability that the start tag transitions to the POS denoted by index $i$: $\\mathbf{A}[s_{idx}, i]$ AND that the POS tag denoted by $i$ emits the first word of the given corpus, which is $\\mathbf{B}[i, vocab[corpus[0]]]$.\n",
    "\n",
    "Conceptually, it looks like this:\n",
    "$\\textrm{best_probs}[s_{idx}, i] = \\mathbf{A}[s_{idx}, i] \\times \\mathbf{B}[i, corpus[0] ]$\n",
    "\n",
    "\n",
    "In order to avoid multiplying and storing small values on the computer, we'll take the log of the product, which becomes the sum of two logs:\n",
    "\n",
    "$best\\_probs[i,0] = log(A[s_{idx}, i]) + log(B[i, vocab[corpus[0]]$\n",
    "\n",
    "Also, to avoid taking the log of 0 (which is defined as negative infinity), the code itself will just set $best\\_probs[i,0] = float('-inf')$ when $A[s_{idx}, i] == 0$\n",
    "\n",
    "\n",
    "So the implementation to initialize $best\\_probs$ looks like this:\n",
    "\n",
    "$ if A[s_{idx}, i] <> 0 : best\\_probs[i,0] = log(A[s_{idx}, i]) + log(B[i, vocab[corpus[0]]])$\n",
    "\n",
    "$ if A[s_{idx}, i] == 0 : best\\_probs[i,0] = float('-inf')$\n",
    "\n"
   ]
  },
  {
   "cell_type": "code",
   "execution_count": null,
   "metadata": {
    "id": "CvoANUGxzLRZ"
   },
   "outputs": [],
   "source": [
    "# UNQ_C5 (UNIQUE CELL IDENTIFIER, DO NOT EDIT)\n",
    "# GRADED FUNCTION: initialize\n",
    "def initialize(states, tag_counts, A, B, corpus, vocab):\n",
    "    '''\n",
    "    Params: \n",
    "        states: a list of all possible parts-of-speech\n",
    "        tag_counts: a dictionary mapping each tag to its respective count\n",
    "        A: Transition Matrix of dimension (num_tags, num_tags)\n",
    "        B: Emission Matrix of dimension (num_tags, len(vocab))\n",
    "        corpus: a sequence of words whose POS is to be identified in a list \n",
    "        vocab: a dictionary where keys are words in vocabulary and value is an index\n",
    "    Return:\n",
    "        best_probs: matrix of dimension (num_tags, len(corpus)) of floats\n",
    "        best_paths: matrix of dimension (num_tags, len(corpus)) of integers\n",
    "    '''\n",
    "    # Write your code here \n",
    "    num_tags=len(tag_counts)\n",
    "    best_probs=np.matrix([[0.00 for i in range(len(corpus))] for j in range(num_tags)])\n",
    "    best_paths=np.matrix([[0.00 for i in range(len(corpus))] for j in range(num_tags)])\n",
    "    return best_probs, best_paths"
   ]
  },
  {
   "cell_type": "code",
   "execution_count": null,
   "metadata": {
    "id": "JHTVCKBtzavk"
   },
   "outputs": [],
   "source": [
    "# Do not change anything in this cell\n",
    "\n",
    "best_probs, best_paths = initialize(states, tag_counts, A, B, prep, vocab)\n",
    "print(f\"best_probs[0,0]: {best_probs[0,0]:.4f}\") \n",
    "print(f\"best_paths[2,3]: {best_paths[2,3]:.4f}\")"
   ]
  },
  {
   "cell_type": "markdown",
   "metadata": {
    "id": "FJu-im2Vzr-b"
   },
   "source": [
    "Implement the `viterbi_forward` algorithm and store the best_path and best_prob for every possible tag for each word in the matrices `best_probs` and `best_tags` using the pseudo code below.\n",
    "\n",
    "`for each word in the corpus\n",
    "\n",
    "    for each POS tag type that this word may be\n",
    "    \n",
    "        for POS tag type that the previous word could be\n",
    "        \n",
    "            compute the probability that the previous word had a given POS tag, that the current word has a given POS tag, and that the POS tag would emit this current word.\n",
    "            \n",
    "            retain the highest probability computed for the current word\n",
    "            \n",
    "            set best_probs to this highest probability\n",
    "            \n",
    "            set best_paths to the index 'k', representing the POS tag of the previous word which produced the highest probability `"
   ]
  },
  {
   "cell_type": "code",
   "execution_count": null,
   "metadata": {
    "id": "i9r5WC15z4hM"
   },
   "outputs": [],
   "source": [
    "# TASK CELL\n",
    "def viterbi_forward(A, B, test_corpus, best_probs, best_paths, vocab):\n",
    "    '''\n",
    "    Input: \n",
    "        A, B: The transiton and emission matrices respectively\n",
    "        test_corpus: a list containing a preprocessed corpus\n",
    "        best_probs: an initilized matrix of dimension (num_tags, len(corpus))\n",
    "        best_paths: an initilized matrix of dimension (num_tags, len(corpus))\n",
    "        vocab: a dictionary where keys are words in vocabulary and value is an index \n",
    "    Output: \n",
    "        best_probs: a completed matrix of dimension (num_tags, len(corpus))\n",
    "        best_paths: a completed matrix of dimension (num_tags, len(corpus))\n",
    "    '''\n",
    "\n",
    "    num_tags = best_probs.shape[0]\n",
    "    \n",
    "    vocab_list=list(vocab.items())\n",
    "    \n",
    "    for i in range(len(states)):\n",
    "        if states[i]==\"--s--\":\n",
    "            pos=i\n",
    "    p=vocab[test_corpus[0]]\n",
    "    #print('p: ',p)\n",
    "    for x in range(num_tags):\n",
    "        if A[pos,x]==0 or B[x,p]==0:\n",
    "            best_probs[x,0]=float('-inf')\n",
    "        else:\n",
    "            best_probs[x,0]=np.log(A[pos,x])+np.log(B[x,p]) \n",
    "        #best_probs[x,0]=1.000\n",
    "        #print('A[pos,x]: ',A[pos,x],'B[x,p]: ',B[x,p])\n",
    "    #for x in range(num_tags):\n",
    "        #print(best_probs[x,0])\n",
    "    \n",
    "    for i in range(1, len(test_corpus)): \n",
    "        if i % 5000 == 0:\n",
    "            print(\"Words processed: {:>8}\".format(i))\n",
    "        for c in range(num_tags):\n",
    "            max_value=float('-inf')\n",
    "            max_pre_tag=-1\n",
    "            pos=vocab[test_corpus[i]]\n",
    "            if test_corpus[i] not in vocab:\n",
    "                pos=assign_unk(test_corpus[i]) \n",
    "            for a in range(num_tags):\n",
    "                #print('A[a,c]: ',A[a,c])\n",
    "                if best_probs[a,i-1]+np.log(A[a,c])>max_value:\n",
    "                    max_value=best_probs[a,i-1]+np.log(A[a,c])\n",
    "                    #print('max_value: ',max_value)\n",
    "                    max_pre_tag=a\n",
    "                    #print('B[c,pos]: ',B[c,pos])\n",
    "                    #print('max_value*B[c,pos]: ',float(max_value*B[c,pos]))\n",
    "            best_probs[c,i]=max_value+np.log(B[c,pos])\n",
    "            #print('best_probs[c,i]: ',best_probs[c,i])\n",
    "            best_paths[c,i]=max_pre_tag\n",
    "            #print(float(max_value*B[c,pos]))\n",
    "        \n",
    "    return best_probs, best_paths"
   ]
  },
  {
   "cell_type": "code",
   "execution_count": null,
   "metadata": {
    "id": "nXYus_Tc0hyo"
   },
   "outputs": [],
   "source": [
    "# Do not change anything in this cell\n",
    "# this will take a few minutes to run => processes ~ 30,000 words\n",
    "best_probs, best_paths = viterbi_forward(A, B, prep, best_probs, best_paths, vocab)"
   ]
  },
  {
   "cell_type": "code",
   "execution_count": null,
   "metadata": {
    "id": "RjABJjfX0qZO"
   },
   "outputs": [],
   "source": [
    "# Do not change anything in this cell\n",
    "print(f\"best_probs[0,1]: {best_probs[0,1]:.4f}\") \n",
    "print(f\"best_probs[0,4]: {best_probs[0,4]:.4f}\")"
   ]
  },
  {
   "cell_type": "markdown",
   "metadata": {
    "id": "hAE7RepC1iAQ"
   },
   "source": [
    "Implement the `viterbi_backward` algorithm, which returns a list of predicted POS tags for each word in the corpus.\n",
    "\n",
    "- Note that the numbering of the index positions starts at 0 and not 1. \n",
    "- `m` is the number of words in the corpus.  \n",
    "    - So the indexing into the corpus goes from `0` to `m - 1`.\n",
    "    - Also, the columns in `best_probs` and `best_paths` are indexed from `0` to `m - 1`\n",
    "\n",
    "\n",
    "**In Step 1:**       \n",
    "Loop through all the rows (POS tags) in the last entry of `best_probs` and find the row (POS tag) with the maximum value.\n",
    "Convert the unique integer ID to a tag (a string representation) using the dictionary `states`.  \n",
    "\n",
    "Referring to the three-word corpus described above:\n",
    "- `z[2] = 28`: For the word 'upward' at position 2 in the corpus, the POS tag ID is 28.  Store 28 in `z` at position 2.\n",
    "- states(28) is 'RB': The POS tag ID 28 refers to the POS tag 'RB'.\n",
    "- `pred[2] = 'RB'`: In array `pred`, store the POS tag for the word 'upward'.\n",
    "\n",
    "**In Step 2:**  \n",
    "- Starting at the last column of best_paths, use `best_probs` to find the most likely POS tag for the last word in the corpus.\n",
    "- Then use `best_paths` to find the most likely POS tag for the previous word. \n",
    "- Update the POS tag for each word in `z` and in `preds`.\n",
    "\n",
    "Referring to the three-word example from above, read best_paths at column 2 and fill in z at position 1.  \n",
    "`z[1] = best_paths[z[2],2]`  \n",
    "\n",
    "The small test following the routine prints the last few words of the corpus and their states to aid in debug."
   ]
  },
  {
   "cell_type": "code",
   "execution_count": null,
   "metadata": {
    "id": "kAWXOEAB1mMw"
   },
   "outputs": [],
   "source": [
    "# TASK CELL\n",
    "def viterbi_backward(best_probs, best_paths, corpus, states):\n",
    "    '''\n",
    "    This function returns the best path.\n",
    "    \n",
    "    '''\n",
    "    # Write your code here\n",
    "    final_tag_index=list(best_probs[:,-1]).index(max(best_probs[:,-1]))\n",
    "    trace=[final_tag_index]\n",
    "    t=final_tag_index\n",
    "    for i in range(len(prep)-1,0,-1): \n",
    "        tag_index=int(best_paths[t,i])\n",
    "        trace.append(tag_index)\n",
    "        t=tag_index\n",
    "    trace=trace[::-1]\n",
    "    \n",
    "    #tag_counts=[i for i in tag_counts.items()]\n",
    "    \n",
    "    pred=[]\n",
    "    for index in trace:\n",
    "        tag=states[index]\n",
    "        pred.append(tag)\n",
    "    return pred"
   ]
  },
  {
   "cell_type": "code",
   "execution_count": null,
   "metadata": {
    "id": "EbWCEz2q140k"
   },
   "outputs": [],
   "source": [
    "# Do not change anything in cell\n",
    "\n",
    "pred = viterbi_backward(best_probs, best_paths, prep, states)\n",
    "m=len(pred)\n",
    "print('The prediction for pred[-7:m-1] is: \\n', prep[-7:m-1], \"\\n\", pred[-7:m-1], \"\\n\")\n",
    "print('The prediction for pred[0:8] is: \\n', pred[0:7], \"\\n\", prep[0:7])\n",
    "\n",
    "print('The third word is:', prep[3])\n",
    "print('Your prediction is:', pred[3])\n",
    "print('Your corresponding label y is: ', y[3])"
   ]
  },
  {
   "cell_type": "markdown",
   "metadata": {
    "id": "CW_miIz-2W31"
   },
   "source": [
    "Implement a function to compute the accuracy of the viterbi algorithm's POS tag predictions."
   ]
  },
  {
   "cell_type": "code",
   "execution_count": null,
   "metadata": {
    "id": "QVJUgqkG2Kaz"
   },
   "outputs": [],
   "source": [
    "# TASK CELL\n",
    "\n",
    "def compute_accuracy(pred, y):\n",
    "    '''\n",
    "    Params: \n",
    "        pred: a list of the predicted parts-of-speech \n",
    "        y: a list of lines where each word is separated by a '\\t' (i.e. word \\t tag)\n",
    "    Return: \n",
    "        accuracy\n",
    "        \n",
    "    '''\n",
    "    correct=0\n",
    "    total=0\n",
    "    for i in range(len(y)):\n",
    "        if not y[i].split():\n",
    "            word = \"--n--\"\n",
    "            tag = \"--s--\"\n",
    "        else:\n",
    "            word, tag = y[i].split()\n",
    "            total+=1\n",
    "        if pred[i]==tag:\n",
    "            correct+=1\n",
    "        \n",
    "    accuracy=correct/total\n",
    "        \n",
    "    return accuracy"
   ]
  },
  {
   "cell_type": "code",
   "execution_count": null,
   "metadata": {
    "id": "qssB5MzP20H2"
   },
   "outputs": [],
   "source": [
    "# Do not change anything in cell\n",
    "print(f\"Accuracy of the Viterbi algorithm is {compute_accuracy(pred, y):.4f}\")"
   ]
  },
  {
   "cell_type": "markdown",
   "metadata": {
    "id": "XyuiDgCC28O5"
   },
   "source": [
    "### References\n",
    "\n",
    "- [\"Speech and Language Processing\", Dan Jurafsky and James H. Martin](https://web.stanford.edu/~jurafsky/slp3/)\n"
   ]
  }
 ],
 "metadata": {
  "colab": {
   "name": "Assignment_3_Problem_Statement (1).ipynb",
   "provenance": []
  },
  "kernelspec": {
   "display_name": "Python 3 (ipykernel)",
   "language": "python",
   "name": "python3"
  },
  "language_info": {
   "codemirror_mode": {
    "name": "ipython",
    "version": 3
   },
   "file_extension": ".py",
   "mimetype": "text/x-python",
   "name": "python",
   "nbconvert_exporter": "python",
   "pygments_lexer": "ipython3",
   "version": "3.7.10"
  }
 },
 "nbformat": 4,
 "nbformat_minor": 1
}
